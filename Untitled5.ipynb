{
  "cells": [
    {
      "cell_type": "markdown",
      "metadata": {
        "id": "view-in-github",
        "colab_type": "text"
      },
      "source": [
        "<a href=\"https://colab.research.google.com/github/shalini200586/MyFinances/blob/main/Untitled5.ipynb\" target=\"_parent\"><img src=\"https://colab.research.google.com/assets/colab-badge.svg\" alt=\"Open In Colab\"/></a>"
      ]
    },
    {
      "cell_type": "code",
      "execution_count": null,
      "metadata": {
        "colab": {
          "background_save": true
        },
        "id": "6KUR4Yegpr6I",
        "outputId": "5ebc0e83-39c9-4213-c7f9-f90aa2d9cc7d"
      },
      "outputs": [
        {
          "name": "stderr",
          "output_type": "stream",
          "text": [
            "/usr/local/lib/python3.12/dist-packages/xgboost/training.py:183: UserWarning: [13:43:31] WARNING: /workspace/src/learner.cc:738: \n",
            "Parameters: { \"use_label_encoder\" } are not used.\n",
            "\n",
            "  bst.update(dtrain, iteration=i, fobj=obj)\n"
          ]
        },
        {
          "name": "stdout",
          "output_type": "stream",
          "text": [
            "It looks like you are running Gradio on a hosted Jupyter notebook, which requires `share=True`. Automatically setting `share=True` (you can turn this off by setting `share=False` in `launch()` explicitly).\n",
            "\n",
            "Colab notebook detected. To show errors in colab notebook, set debug=True in launch()\n",
            "* Running on public URL: https://313dfcb6752ea355bb.gradio.live\n",
            "\n",
            "This share link expires in 1 week. For free permanent hosting and GPU upgrades, run `gradio deploy` from the terminal in the working directory to deploy to Hugging Face Spaces (https://huggingface.co/spaces)\n"
          ]
        },
        {
          "data": {
            "text/html": [
              "<div><iframe src=\"https://313dfcb6752ea355bb.gradio.live\" width=\"100%\" height=\"500\" allow=\"autoplay; camera; microphone; clipboard-read; clipboard-write;\" frameborder=\"0\" allowfullscreen></iframe></div>"
            ],
            "text/plain": [
              "<IPython.core.display.HTML object>"
            ]
          },
          "metadata": {},
          "output_type": "display_data"
        },
        {
          "data": {
            "text/plain": []
          },
          "execution_count": 1,
          "metadata": {},
          "output_type": "execute_result"
        }
      ],
      "source": [
        "# 1. Import libraries\n",
        "import pandas as pd\n",
        "import numpy as np\n",
        "import joblib\n",
        "import os\n",
        "import matplotlib.pyplot as plt\n",
        "import seaborn as sns\n",
        "from sklearn.model_selection import train_test_split\n",
        "from sklearn.preprocessing import StandardScaler\n",
        "from sklearn.linear_model import LogisticRegression\n",
        "from sklearn.metrics import accuracy_score, classification_report, confusion_matrix, roc_curve, auc\n",
        "from xgboost import XGBClassifier\n",
        "import gradio as gr\n",
        "import csv\n",
        "from datetime import datetime\n",
        "\n",
        "# 2. Load dataset\n",
        "url = \"https://raw.githubusercontent.com/jbrownlee/Datasets/master/pima-indians-diabetes.data.csv\"\n",
        "columns = ['Pregnancies', 'Glucose', 'BloodPressure', 'SkinThickness',\n",
        "           'Insulin', 'BMI', 'DiabetesPedigreeFunction', 'Age', 'Outcome']\n",
        "data = pd.read_csv(url, names=columns)\n",
        "\n",
        "# 3. Clean data\n",
        "cols_with_zeros = ['Glucose', 'BloodPressure', 'SkinThickness', 'Insulin', 'BMI']\n",
        "data[cols_with_zeros] = data[cols_with_zeros].replace(0, np.nan)\n",
        "data.fillna(data.mean(), inplace=True)\n",
        "\n",
        "# 4. Feature engineering\n",
        "data[\"BMI_Age\"] = data[\"BMI\"] * data[\"Age\"]\n",
        "\n",
        "# 5. Prepare features and labels\n",
        "X = data.drop(\"Outcome\", axis=1)\n",
        "y = data[\"Outcome\"]\n",
        "\n",
        "# 6. Split and scale\n",
        "X_train, X_test, y_train, y_test = train_test_split(X, y, test_size=0.2, random_state=42)\n",
        "scaler = StandardScaler()\n",
        "X_train_scaled = scaler.fit_transform(X_train)\n",
        "X_test_scaled = scaler.transform(X_test)\n",
        "\n",
        "# 7. Train or load models\n",
        "if os.path.exists(\"log_model.pkl\"):\n",
        "    log_model = joblib.load(\"log_model.pkl\")\n",
        "else:\n",
        "    log_model = LogisticRegression(max_iter=1000)\n",
        "    log_model.fit(X_train_scaled, y_train)\n",
        "    joblib.dump(log_model, \"log_model.pkl\")\n",
        "\n",
        "if os.path.exists(\"xgb_model.pkl\"):\n",
        "    xgb_model = joblib.load(\"xgb_model.pkl\")\n",
        "else:\n",
        "    xgb_model = XGBClassifier(use_label_encoder=False, eval_metric='logloss', random_state=42)\n",
        "    xgb_model.fit(X_train_scaled, y_train)\n",
        "    joblib.dump(xgb_model, \"xgb_model.pkl\")\n",
        "\n",
        "joblib.dump(scaler, \"scaler.pkl\")\n",
        "\n",
        "# 8. Plotting functions\n",
        "def plot_confusion_matrix(y_true, y_pred, model_name):\n",
        "    cm = confusion_matrix(y_true, y_pred)\n",
        "    plt.figure(figsize=(4, 3))\n",
        "    sns.heatmap(cm, annot=True, fmt=\"d\", cmap=\"Blues\", xticklabels=[\"No\", \"Yes\"], yticklabels=[\"No\", \"Yes\"])\n",
        "    plt.xlabel(\"Predicted\")\n",
        "    plt.ylabel(\"Actual\")\n",
        "    plt.title(f\"{model_name} - Confusion Matrix\")\n",
        "    plt.tight_layout()\n",
        "    plt.savefig(\"conf_matrix.png\")\n",
        "    plt.close()\n",
        "\n",
        "def plot_roc_curve(model, X_test, y_test, model_name):\n",
        "    y_probs = model.predict_proba(X_test)[:, 1]\n",
        "    fpr, tpr, _ = roc_curve(y_test, y_probs)\n",
        "    roc_auc = auc(fpr, tpr)\n",
        "    plt.figure(figsize=(4, 3))\n",
        "    plt.plot(fpr, tpr, label=f\"AUC = {roc_auc:.2f}\")\n",
        "    plt.plot([0, 1], [0, 1], linestyle=\"--\")\n",
        "    plt.xlabel(\"False Positive Rate\")\n",
        "    plt.ylabel(\"True Positive Rate\")\n",
        "    plt.title(f\"{model_name} - ROC Curve\")\n",
        "    plt.legend()\n",
        "    plt.tight_layout()\n",
        "    plt.savefig(\"roc_curve.png\")\n",
        "    plt.close()\n",
        "\n",
        "# 9. Logging function\n",
        "def log_to_csv(inputs, prediction, model):\n",
        "    with open(\"user_logs.csv\", mode='a', newline='') as file:\n",
        "        writer = csv.writer(file)\n",
        "        writer.writerow([*inputs, prediction, model, datetime.now()])\n",
        "\n",
        "# 10. Prediction function\n",
        "def predict_diabetes(Pregnancies, Glucose, BloodPressure, SkinThickness,\n",
        "                     Insulin, BMI, DiabetesPedigreeFunction, Age,\n",
        "                     model_choice):\n",
        "\n",
        "    BMI_Age = BMI * Age\n",
        "    input_data = np.array([[Pregnancies, Glucose, BloodPressure, SkinThickness,\n",
        "                            Insulin, BMI, DiabetesPedigreeFunction, Age, BMI_Age]])\n",
        "    input_scaled = scaler.transform(input_data)\n",
        "\n",
        "    if model_choice == \"Logistic Regression\":\n",
        "        prediction = log_model.predict(input_scaled)\n",
        "        accuracy = accuracy_score(y_test, log_model.predict(X_test_scaled))\n",
        "        plot_confusion_matrix(y_test, log_model.predict(X_test_scaled), \"Logistic Regression\")\n",
        "        plot_roc_curve(log_model, X_test_scaled, y_test, \"Logistic Regression\")\n",
        "    else:\n",
        "        prediction = xgb_model.predict(input_scaled)\n",
        "        accuracy = accuracy_score(y_test, xgb_model.predict(X_test_scaled))\n",
        "        plot_confusion_matrix(y_test, xgb_model.predict(X_test_scaled), \"XGBoost\")\n",
        "        plot_roc_curve(xgb_model, X_test_scaled, y_test, \"XGBoost\")\n",
        "\n",
        "    result = \"Diabetic\" if prediction[0] == 1 else \"Not Diabetic\"\n",
        "\n",
        "    # Log inputs\n",
        "    inputs = [Pregnancies, Glucose, BloodPressure, SkinThickness,\n",
        "              Insulin, BMI, DiabetesPedigreeFunction, Age, BMI_Age]\n",
        "    log_to_csv(inputs, result, model_choice)\n",
        "\n",
        "    return result, f\"Accuracy: {accuracy:.2f}\", \"conf_matrix.png\", \"roc_curve.png\"\n",
        "\n",
        "# 11. Gradio app\n",
        "inputs = [\n",
        "    gr.Number(label=\"Pregnancies\"),\n",
        "    gr.Number(label=\"Glucose\"),\n",
        "    gr.Number(label=\"Blood Pressure\"),\n",
        "    gr.Number(label=\"Skin Thickness\"),\n",
        "    gr.Number(label=\"Insulin\"),\n",
        "    gr.Number(label=\"BMI\"),\n",
        "    gr.Number(label=\"Diabetes Pedigree Function\"),\n",
        "    gr.Number(label=\"Age\"),\n",
        "    gr.Radio([\"Logistic Regression\", \"XGBoost\"], label=\"Choose Model\")\n",
        "]\n",
        "\n",
        "outputs = [\n",
        "    gr.Text(label=\"Prediction\"),\n",
        "    gr.Text(label=\"Model Accuracy\"),\n",
        "    gr.Image(label=\"Confusion Matrix\"),\n",
        "    gr.Image(label=\"ROC Curve\")\n",
        "]\n",
        "\n",
        "gr.Interface(fn=predict_diabetes, inputs=inputs, outputs=outputs,\n",
        "             title=\"Diabetes Prediction (Advanced AI Model)\").launch()\n"
      ]
    }
  ],
  "metadata": {
    "colab": {
      "provenance": [],
      "authorship_tag": "ABX9TyPTks1b1mPsa1DbEuKvbwit",
      "include_colab_link": true
    },
    "kernelspec": {
      "display_name": "Python 3",
      "name": "python3"
    },
    "language_info": {
      "name": "python"
    }
  },
  "nbformat": 4,
  "nbformat_minor": 0
}